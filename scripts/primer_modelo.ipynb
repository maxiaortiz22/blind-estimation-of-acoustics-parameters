{
 "cells": [
  {
   "cell_type": "code",
   "execution_count": 1,
   "id": "1b4c987b",
   "metadata": {},
   "outputs": [
    {
     "name": "stderr",
     "output_type": "stream",
     "text": [
      "2022-05-07 18:51:58.248203: I tensorflow/stream_executor/platform/default/dso_loader.cc:53] Successfully opened dynamic library libcudart.so.11.0\n"
     ]
    }
   ],
   "source": [
    "import matplotlib.pyplot as plt\n",
    "import numpy as np\n",
    "import tensorflow as tf\n",
    "import tensorflow.keras.layers as tfkl\n",
    "from IPython.display import Audio\n",
    "import soundfile as sf\n",
    "import glob\n",
    "from dummy_data import generate_dummy_data"
   ]
  },
  {
   "cell_type": "markdown",
   "id": "7579b519",
   "metadata": {},
   "source": [
    "# Dummy data"
   ]
  },
  {
   "cell_type": "code",
   "execution_count": 56,
   "id": "e5826597",
   "metadata": {},
   "outputs": [
    {
     "name": "stderr",
     "output_type": "stream",
     "text": [
      "100%|███████████████████████████| 10000/10000 [08:24<00:00, 19.80it/s]\n"
     ]
    }
   ],
   "source": [
    "audio_list = glob.glob('/mnt/datasets/clean_voice/dev-clean/**/*.flac', recursive=True)\n",
    "data_x, data_y = generate_dummy_data(audio_list, 10000)"
   ]
  },
  {
   "cell_type": "markdown",
   "id": "60611a95",
   "metadata": {},
   "source": [
    "# Modelo\n",
    "Primero recreo lo que dice el paper (o lo que parece que dice)"
   ]
  },
  {
   "cell_type": "code",
   "execution_count": 57,
   "id": "62ccd960",
   "metadata": {},
   "outputs": [],
   "source": [
    "\"\"\"\n",
    "Modo de la convolucion? padding same? valid?\n",
    "\n",
    "Maxpoolings con stride=1? Se contradice en el parrafo del paper\n",
    "\n",
    "Ojo con donde ponemos el batch norm, que por cierto no esta en la tablita\n",
    "\n",
    "Mandar mail, puede servir\n",
    "\"\"\"\n",
    "\n",
    "tf.keras.backend.clear_session()\n",
    "\n",
    "audio_in = tfkl.Input((200,1), name='Audio de entrada')\n",
    "\n",
    "capa_1 = tfkl.Conv1D(filters=32, kernel_size=(10), activation='relu', name='capa1_conv')(audio_in)\n",
    "capa_1 = tfkl.MaxPool1D(pool_size=2, strides=1, name='capa1_pool')(capa_1)\n",
    "capa_1 = tfkl.BatchNormalization(name = 'Batch_capa1')(capa_1)\n",
    "\n",
    "capa_2 = tfkl.Conv1D(filters=16, kernel_size=(5), activation='relu', name='capa2_conv')(capa_1) \n",
    "capa_2 = tfkl.MaxPool1D(pool_size=2, strides=1, name='capa2_pool')(capa_2)\n",
    "capa_2 = tfkl.Dropout(0.4, name='capa2_drop')(capa_2)\n",
    "\n",
    "capa_3 = tfkl.Conv1D(filters=8, kernel_size=(5), activation='relu', name='capa3_conv')(capa_2) \n",
    "capa_3 = tfkl.MaxPool1D(pool_size=2, name='capa3_pool')(capa_3)\n",
    "\n",
    "capa_4 = tfkl.Conv1D(filters=4, kernel_size=(5), activation='relu', name='capa4_conv')(capa_3)\n",
    "capa_4 = tfkl.Flatten()(capa_4)\n",
    "tr_pred = tfkl.Dense(1, name='Salida_prediccion')(capa_4) # solo calculo tr\n",
    "\n",
    "modelo = tf.keras.Model(inputs=[audio_in], outputs=[tr_pred])\n",
    "modelo.compile(optimizer=tf.keras.optimizers.Adam(learning_rate=0.001), loss='mse')"
   ]
  },
  {
   "cell_type": "code",
   "execution_count": 58,
   "id": "252772c2",
   "metadata": {},
   "outputs": [
    {
     "name": "stdout",
     "output_type": "stream",
     "text": [
      "Model: \"model\"\n",
      "_________________________________________________________________\n",
      "Layer (type)                 Output Shape              Param #   \n",
      "=================================================================\n",
      "Audio de entrada (InputLayer [(None, 200, 1)]          0         \n",
      "_________________________________________________________________\n",
      "capa1_conv (Conv1D)          (None, 191, 32)           352       \n",
      "_________________________________________________________________\n",
      "capa1_pool (MaxPooling1D)    (None, 190, 32)           0         \n",
      "_________________________________________________________________\n",
      "Batch_capa1 (BatchNormalizat (None, 190, 32)           128       \n",
      "_________________________________________________________________\n",
      "capa2_conv (Conv1D)          (None, 186, 16)           2576      \n",
      "_________________________________________________________________\n",
      "capa2_pool (MaxPooling1D)    (None, 185, 16)           0         \n",
      "_________________________________________________________________\n",
      "capa2_drop (Dropout)         (None, 185, 16)           0         \n",
      "_________________________________________________________________\n",
      "capa3_conv (Conv1D)          (None, 181, 8)            648       \n",
      "_________________________________________________________________\n",
      "capa3_pool (MaxPooling1D)    (None, 90, 8)             0         \n",
      "_________________________________________________________________\n",
      "capa4_conv (Conv1D)          (None, 86, 4)             164       \n",
      "_________________________________________________________________\n",
      "flatten (Flatten)            (None, 344)               0         \n",
      "_________________________________________________________________\n",
      "Salida_prediccion (Dense)    (None, 1)                 345       \n",
      "=================================================================\n",
      "Total params: 4,213\n",
      "Trainable params: 4,149\n",
      "Non-trainable params: 64\n",
      "_________________________________________________________________\n"
     ]
    }
   ],
   "source": [
    "modelo.summary()"
   ]
  },
  {
   "cell_type": "markdown",
   "id": "329bf0dd",
   "metadata": {},
   "source": [
    "Ahora hago uno como probaria yo"
   ]
  },
  {
   "cell_type": "code",
   "execution_count": 82,
   "id": "ce60c091",
   "metadata": {},
   "outputs": [],
   "source": [
    "def modelo_martin():\n",
    "    tf.keras.backend.clear_session()\n",
    "\n",
    "    audio_in = tfkl.Input((200,1), name = 'Audio de entrada')\n",
    "\n",
    "    capa_1 = tfkl.Conv1D(filters=32, kernel_size=(10), activation='relu', name='capa1_conv')(audio_in)\n",
    "    capa_1 = tfkl.MaxPool1D(pool_size=2, name='capa1_pool')(capa_1)\n",
    "    capa_1 = tfkl.BatchNormalization(name = 'Batch_capa1')(capa_1)\n",
    "\n",
    "    capa_2 = tfkl.Conv1D(filters=16, kernel_size=(5), activation='relu', name='capa2_conv')(capa_1) \n",
    "    capa_2 = tfkl.MaxPool1D(pool_size=2, name='capa2_pool')(capa_2)\n",
    "    capa_2 = tfkl.BatchNormalization(name = 'Batch_capa2')(capa_2)\n",
    "    capa_2 = tfkl.Dropout(0.4, name='capa2_drop')(capa_2)\n",
    "\n",
    "    capa_3 = tfkl.Conv1D(filters=8, kernel_size=(5), activation='relu', name='capa3_conv')(capa_2) \n",
    "    capa_3 = tfkl.MaxPool1D(pool_size=2, name='capa3_pool')(capa_3)\n",
    "    capa_3 = tfkl.BatchNormalization(name = 'Batch_capa3')(capa_3)\n",
    "    \n",
    "    capa_4 = tfkl.Conv1D(filters=4, kernel_size=(5), activation='relu', name='capa4_conv')(capa_3)\n",
    "    capa_4 = tfkl.Flatten()(capa_4)\n",
    "    tr_pred = tfkl.Dense(1, name='Salida_prediccion')(capa_4) # solo calculo tr\n",
    "\n",
    "    modelo = tf.keras.Model(inputs=[audio_in], outputs=[tr_pred])\n",
    "    modelo.compile(optimizer=tf.keras.optimizers.Adam(learning_rate=0.001), loss='mse')\n",
    "    return modelo\n",
    "modelo_mio = modelo_martin()"
   ]
  },
  {
   "cell_type": "code",
   "execution_count": 83,
   "id": "14af269b",
   "metadata": {},
   "outputs": [
    {
     "name": "stdout",
     "output_type": "stream",
     "text": [
      "Model: \"model\"\n",
      "_________________________________________________________________\n",
      "Layer (type)                 Output Shape              Param #   \n",
      "=================================================================\n",
      "Audio de entrada (InputLayer [(None, 200, 1)]          0         \n",
      "_________________________________________________________________\n",
      "capa1_conv (Conv1D)          (None, 191, 32)           352       \n",
      "_________________________________________________________________\n",
      "capa1_pool (MaxPooling1D)    (None, 95, 32)            0         \n",
      "_________________________________________________________________\n",
      "Batch_capa1 (BatchNormalizat (None, 95, 32)            128       \n",
      "_________________________________________________________________\n",
      "capa2_conv (Conv1D)          (None, 91, 16)            2576      \n",
      "_________________________________________________________________\n",
      "capa2_pool (MaxPooling1D)    (None, 45, 16)            0         \n",
      "_________________________________________________________________\n",
      "Batch_capa2 (BatchNormalizat (None, 45, 16)            64        \n",
      "_________________________________________________________________\n",
      "capa2_drop (Dropout)         (None, 45, 16)            0         \n",
      "_________________________________________________________________\n",
      "capa3_conv (Conv1D)          (None, 41, 8)             648       \n",
      "_________________________________________________________________\n",
      "capa3_pool (MaxPooling1D)    (None, 20, 8)             0         \n",
      "_________________________________________________________________\n",
      "Batch_capa3 (BatchNormalizat (None, 20, 8)             32        \n",
      "_________________________________________________________________\n",
      "capa4_conv (Conv1D)          (None, 16, 4)             164       \n",
      "_________________________________________________________________\n",
      "flatten (Flatten)            (None, 64)                0         \n",
      "_________________________________________________________________\n",
      "Salida_prediccion (Dense)    (None, 1)                 65        \n",
      "=================================================================\n",
      "Total params: 4,029\n",
      "Trainable params: 3,917\n",
      "Non-trainable params: 112\n",
      "_________________________________________________________________\n"
     ]
    }
   ],
   "source": [
    "modelo_mio.summary()"
   ]
  },
  {
   "cell_type": "code",
   "execution_count": 8,
   "id": "ed77f0e0",
   "metadata": {},
   "outputs": [
    {
     "name": "stderr",
     "output_type": "stream",
     "text": [
      "2022-05-07 19:12:05.991382: I tensorflow/compiler/mlir/mlir_graph_optimization_pass.cc:176] None of the MLIR Optimization Passes are enabled (registered 2)\n",
      "2022-05-07 19:12:06.010034: I tensorflow/core/platform/profile_utils/cpu_utils.cc:114] CPU Frequency: 3199980000 Hz\n",
      "2022-05-07 19:12:06.188657: I tensorflow/stream_executor/platform/default/dso_loader.cc:53] Successfully opened dynamic library libcudnn.so.8\n",
      "2022-05-07 19:12:06.464722: I tensorflow/stream_executor/cuda/cuda_dnn.cc:359] Loaded cuDNN version 8202\n",
      "2022-05-07 19:12:06.654134: E tensorflow/core/platform/default/subprocess.cc:304] Start cannot spawn child process: No such file or directory\n",
      "2022-05-07 19:12:06.654157: W tensorflow/stream_executor/gpu/asm_compiler.cc:56] Couldn't invoke ptxas --version\n",
      "2022-05-07 19:12:06.654785: E tensorflow/core/platform/default/subprocess.cc:304] Start cannot spawn child process: No such file or directory\n",
      "2022-05-07 19:12:06.654847: W tensorflow/stream_executor/gpu/redzone_allocator.cc:314] Internal: Failed to launch ptxas\n",
      "Relying on driver to perform ptx compilation. \n",
      "Modify $PATH to customize ptxas location.\n",
      "This message will be only logged once.\n",
      "2022-05-07 19:12:06.662656: I tensorflow/stream_executor/platform/default/dso_loader.cc:53] Successfully opened dynamic library libcublas.so.11\n",
      "2022-05-07 19:12:06.870002: I tensorflow/stream_executor/platform/default/dso_loader.cc:53] Successfully opened dynamic library libcublasLt.so.11\n"
     ]
    },
    {
     "data": {
      "text/plain": [
       "array([[-0.04217694]], dtype=float32)"
      ]
     },
     "execution_count": 8,
     "metadata": {},
     "output_type": "execute_result"
    }
   ],
   "source": [
    "modelo_mio.predict(np.random.rand(200).reshape(1,-1,1), 1)"
   ]
  },
  {
   "cell_type": "markdown",
   "id": "dd9e6b09",
   "metadata": {},
   "source": [
    "# Entrenando"
   ]
  },
  {
   "cell_type": "code",
   "execution_count": 89,
   "id": "a79ae8fa",
   "metadata": {},
   "outputs": [
    {
     "name": "stdout",
     "output_type": "stream",
     "text": [
      "Epoch 1/100\n",
      "16/16 [==============================] - 1s 42ms/step - loss: 0.0039 - val_loss: 0.0340\n",
      "Epoch 2/100\n",
      "16/16 [==============================] - 0s 15ms/step - loss: 0.0038 - val_loss: 0.0334\n",
      "Epoch 3/100\n",
      "16/16 [==============================] - 0s 15ms/step - loss: 0.0037 - val_loss: 0.0381\n",
      "Epoch 4/100\n",
      "16/16 [==============================] - 0s 15ms/step - loss: 0.0037 - val_loss: 0.0342\n",
      "Epoch 5/100\n",
      "16/16 [==============================] - 0s 15ms/step - loss: 0.0039 - val_loss: 0.0354\n",
      "Epoch 6/100\n",
      "16/16 [==============================] - 0s 15ms/step - loss: 0.0041 - val_loss: 0.0344\n",
      "Epoch 7/100\n",
      "16/16 [==============================] - 0s 15ms/step - loss: 0.0038 - val_loss: 0.0318\n",
      "Epoch 8/100\n",
      "16/16 [==============================] - 0s 16ms/step - loss: 0.0038 - val_loss: 0.0295\n",
      "Epoch 9/100\n",
      "16/16 [==============================] - 0s 15ms/step - loss: 0.0038 - val_loss: 0.0333\n",
      "Epoch 10/100\n",
      "16/16 [==============================] - 0s 15ms/step - loss: 0.0039 - val_loss: 0.0347\n",
      "Epoch 11/100\n",
      "16/16 [==============================] - 0s 15ms/step - loss: 0.0035 - val_loss: 0.0385\n",
      "Epoch 12/100\n",
      "16/16 [==============================] - 0s 15ms/step - loss: 0.0038 - val_loss: 0.0394\n",
      "Epoch 13/100\n",
      "16/16 [==============================] - 0s 15ms/step - loss: 0.0037 - val_loss: 0.0410\n",
      "Epoch 14/100\n",
      "16/16 [==============================] - 0s 15ms/step - loss: 0.0036 - val_loss: 0.0349\n",
      "Epoch 15/100\n",
      "16/16 [==============================] - 0s 16ms/step - loss: 0.0035 - val_loss: 0.0393\n",
      "Epoch 16/100\n",
      "16/16 [==============================] - 0s 15ms/step - loss: 0.0041 - val_loss: 0.0439\n",
      "Epoch 17/100\n",
      "16/16 [==============================] - 0s 15ms/step - loss: 0.0039 - val_loss: 0.0416\n",
      "Epoch 18/100\n",
      "16/16 [==============================] - 0s 15ms/step - loss: 0.0045 - val_loss: 0.0562\n",
      "Epoch 19/100\n",
      "16/16 [==============================] - 0s 16ms/step - loss: 0.0047 - val_loss: 0.0601\n",
      "Epoch 20/100\n",
      "16/16 [==============================] - 0s 16ms/step - loss: 0.0043 - val_loss: 0.0462\n",
      "Epoch 21/100\n",
      "16/16 [==============================] - 0s 16ms/step - loss: 0.0037 - val_loss: 0.0353\n",
      "Epoch 22/100\n",
      "16/16 [==============================] - 0s 15ms/step - loss: 0.0043 - val_loss: 0.0423\n",
      "Epoch 23/100\n",
      "16/16 [==============================] - 0s 15ms/step - loss: 0.0043 - val_loss: 0.0302\n",
      "Epoch 24/100\n",
      "16/16 [==============================] - 0s 15ms/step - loss: 0.0037 - val_loss: 0.0384\n",
      "Epoch 25/100\n",
      "16/16 [==============================] - 0s 15ms/step - loss: 0.0036 - val_loss: 0.0329\n",
      "Epoch 26/100\n",
      "16/16 [==============================] - 0s 15ms/step - loss: 0.0038 - val_loss: 0.0465\n",
      "Epoch 27/100\n",
      "16/16 [==============================] - 0s 16ms/step - loss: 0.0037 - val_loss: 0.0390\n",
      "Epoch 28/100\n",
      "16/16 [==============================] - 0s 15ms/step - loss: 0.0038 - val_loss: 0.0353\n",
      "Epoch 29/100\n",
      "16/16 [==============================] - 0s 15ms/step - loss: 0.0042 - val_loss: 0.0535\n",
      "Epoch 30/100\n",
      "16/16 [==============================] - 0s 15ms/step - loss: 0.0043 - val_loss: 0.0345\n",
      "Epoch 31/100\n",
      "16/16 [==============================] - 0s 15ms/step - loss: 0.0037 - val_loss: 0.0369\n",
      "Epoch 32/100\n",
      "16/16 [==============================] - 0s 16ms/step - loss: 0.0035 - val_loss: 0.0387\n",
      "Epoch 33/100\n",
      "16/16 [==============================] - 0s 16ms/step - loss: 0.0038 - val_loss: 0.0447\n",
      "Epoch 34/100\n",
      "16/16 [==============================] - 0s 15ms/step - loss: 0.0039 - val_loss: 0.0365\n",
      "Epoch 35/100\n",
      "16/16 [==============================] - 0s 15ms/step - loss: 0.0037 - val_loss: 0.0387\n",
      "Epoch 36/100\n",
      "16/16 [==============================] - 0s 15ms/step - loss: 0.0035 - val_loss: 0.0346\n",
      "Epoch 37/100\n",
      "16/16 [==============================] - 0s 15ms/step - loss: 0.0037 - val_loss: 0.0420\n",
      "Epoch 38/100\n",
      "16/16 [==============================] - 0s 15ms/step - loss: 0.0039 - val_loss: 0.0413\n",
      "Epoch 39/100\n",
      "16/16 [==============================] - 0s 16ms/step - loss: 0.0040 - val_loss: 0.0266\n",
      "Epoch 40/100\n",
      "16/16 [==============================] - 0s 15ms/step - loss: 0.0043 - val_loss: 0.0314\n",
      "Epoch 41/100\n",
      "16/16 [==============================] - 0s 16ms/step - loss: 0.0036 - val_loss: 0.0346\n",
      "Epoch 42/100\n",
      "16/16 [==============================] - 0s 15ms/step - loss: 0.0039 - val_loss: 0.0390\n",
      "Epoch 43/100\n",
      "16/16 [==============================] - 0s 15ms/step - loss: 0.0036 - val_loss: 0.0377\n",
      "Epoch 44/100\n",
      "16/16 [==============================] - 0s 15ms/step - loss: 0.0041 - val_loss: 0.0322\n",
      "Epoch 45/100\n",
      "16/16 [==============================] - 0s 16ms/step - loss: 0.0039 - val_loss: 0.0312\n",
      "Epoch 46/100\n",
      "16/16 [==============================] - 0s 16ms/step - loss: 0.0037 - val_loss: 0.0370\n",
      "Epoch 47/100\n",
      "16/16 [==============================] - 0s 16ms/step - loss: 0.0035 - val_loss: 0.0357\n",
      "Epoch 48/100\n",
      "16/16 [==============================] - 0s 15ms/step - loss: 0.0035 - val_loss: 0.0348\n",
      "Epoch 49/100\n",
      "16/16 [==============================] - 0s 15ms/step - loss: 0.0034 - val_loss: 0.0284\n",
      "Epoch 50/100\n",
      "16/16 [==============================] - 0s 15ms/step - loss: 0.0036 - val_loss: 0.0423\n",
      "Epoch 51/100\n",
      "16/16 [==============================] - 0s 16ms/step - loss: 0.0035 - val_loss: 0.0366\n",
      "Epoch 52/100\n",
      "16/16 [==============================] - 0s 15ms/step - loss: 0.0036 - val_loss: 0.0423\n",
      "Epoch 53/100\n",
      "16/16 [==============================] - 0s 15ms/step - loss: 0.0048 - val_loss: 0.0348\n",
      "Epoch 54/100\n",
      "16/16 [==============================] - 0s 15ms/step - loss: 0.0046 - val_loss: 0.0409\n",
      "Epoch 55/100\n",
      "16/16 [==============================] - 0s 15ms/step - loss: 0.0039 - val_loss: 0.0463\n",
      "Epoch 56/100\n",
      "16/16 [==============================] - 0s 15ms/step - loss: 0.0038 - val_loss: 0.0285\n",
      "Epoch 57/100\n",
      "16/16 [==============================] - 0s 16ms/step - loss: 0.0041 - val_loss: 0.0394\n",
      "Epoch 58/100\n",
      "16/16 [==============================] - 0s 16ms/step - loss: 0.0038 - val_loss: 0.0311\n",
      "Epoch 59/100\n",
      "16/16 [==============================] - 0s 15ms/step - loss: 0.0038 - val_loss: 0.0394\n",
      "Epoch 60/100\n",
      "16/16 [==============================] - 0s 15ms/step - loss: 0.0037 - val_loss: 0.0402\n",
      "Epoch 61/100\n",
      "16/16 [==============================] - 0s 16ms/step - loss: 0.0038 - val_loss: 0.0379\n",
      "Epoch 62/100\n",
      "16/16 [==============================] - 0s 15ms/step - loss: 0.0043 - val_loss: 0.0409\n",
      "Epoch 63/100\n",
      "16/16 [==============================] - 0s 15ms/step - loss: 0.0036 - val_loss: 0.0349\n",
      "Epoch 64/100\n",
      "16/16 [==============================] - 0s 16ms/step - loss: 0.0036 - val_loss: 0.0508\n",
      "Epoch 65/100\n",
      "16/16 [==============================] - 0s 15ms/step - loss: 0.0038 - val_loss: 0.0444\n",
      "Epoch 66/100\n",
      "16/16 [==============================] - 0s 15ms/step - loss: 0.0036 - val_loss: 0.0399\n",
      "Epoch 67/100\n",
      "16/16 [==============================] - 0s 15ms/step - loss: 0.0041 - val_loss: 0.0542\n",
      "Epoch 68/100\n",
      "16/16 [==============================] - 0s 15ms/step - loss: 0.0039 - val_loss: 0.0365\n",
      "Epoch 69/100\n",
      "16/16 [==============================] - 0s 15ms/step - loss: 0.0036 - val_loss: 0.0407\n",
      "Epoch 70/100\n",
      "16/16 [==============================] - 0s 16ms/step - loss: 0.0037 - val_loss: 0.0313\n",
      "Epoch 71/100\n",
      "16/16 [==============================] - 0s 16ms/step - loss: 0.0036 - val_loss: 0.0374\n",
      "Epoch 72/100\n",
      "16/16 [==============================] - 0s 15ms/step - loss: 0.0038 - val_loss: 0.0362\n",
      "Epoch 73/100\n",
      "16/16 [==============================] - 0s 15ms/step - loss: 0.0034 - val_loss: 0.0364\n",
      "Epoch 74/100\n",
      "16/16 [==============================] - 0s 15ms/step - loss: 0.0036 - val_loss: 0.0317\n",
      "Epoch 75/100\n",
      "16/16 [==============================] - 0s 16ms/step - loss: 0.0037 - val_loss: 0.0352\n",
      "Epoch 76/100\n",
      "16/16 [==============================] - 0s 16ms/step - loss: 0.0043 - val_loss: 0.0526\n",
      "Epoch 77/100\n",
      "16/16 [==============================] - 0s 15ms/step - loss: 0.0045 - val_loss: 0.0370\n",
      "Epoch 78/100\n",
      "16/16 [==============================] - 0s 15ms/step - loss: 0.0040 - val_loss: 0.0272\n",
      "Epoch 79/100\n",
      "16/16 [==============================] - 0s 15ms/step - loss: 0.0045 - val_loss: 0.0431\n",
      "Epoch 80/100\n",
      "16/16 [==============================] - 0s 15ms/step - loss: 0.0038 - val_loss: 0.0406\n",
      "Epoch 81/100\n",
      "16/16 [==============================] - 0s 16ms/step - loss: 0.0037 - val_loss: 0.0387\n",
      "Epoch 82/100\n"
     ]
    },
    {
     "name": "stdout",
     "output_type": "stream",
     "text": [
      "16/16 [==============================] - 0s 16ms/step - loss: 0.0034 - val_loss: 0.0409\n",
      "Epoch 83/100\n",
      "16/16 [==============================] - 0s 16ms/step - loss: 0.0034 - val_loss: 0.0377\n",
      "Epoch 84/100\n",
      "16/16 [==============================] - 0s 15ms/step - loss: 0.0035 - val_loss: 0.0605\n",
      "Epoch 85/100\n",
      "16/16 [==============================] - 0s 15ms/step - loss: 0.0042 - val_loss: 0.0338\n",
      "Epoch 86/100\n",
      "16/16 [==============================] - 0s 15ms/step - loss: 0.0038 - val_loss: 0.0357\n",
      "Epoch 87/100\n",
      "16/16 [==============================] - 0s 15ms/step - loss: 0.0040 - val_loss: 0.0502\n",
      "Epoch 88/100\n",
      "16/16 [==============================] - 0s 15ms/step - loss: 0.0040 - val_loss: 0.0331\n",
      "Epoch 89/100\n",
      "16/16 [==============================] - 0s 16ms/step - loss: 0.0038 - val_loss: 0.0292\n",
      "Epoch 90/100\n",
      "16/16 [==============================] - 0s 16ms/step - loss: 0.0040 - val_loss: 0.0490\n",
      "Epoch 91/100\n",
      "16/16 [==============================] - 0s 15ms/step - loss: 0.0038 - val_loss: 0.0333\n",
      "Epoch 92/100\n",
      "16/16 [==============================] - 0s 15ms/step - loss: 0.0035 - val_loss: 0.0344\n",
      "Epoch 93/100\n",
      "16/16 [==============================] - 0s 15ms/step - loss: 0.0042 - val_loss: 0.0284\n",
      "Epoch 94/100\n",
      "16/16 [==============================] - 0s 16ms/step - loss: 0.0045 - val_loss: 0.0357\n",
      "Epoch 95/100\n",
      "16/16 [==============================] - 0s 15ms/step - loss: 0.0038 - val_loss: 0.0421\n",
      "Epoch 96/100\n",
      "16/16 [==============================] - 0s 16ms/step - loss: 0.0045 - val_loss: 0.0392\n",
      "Epoch 97/100\n",
      "16/16 [==============================] - 0s 15ms/step - loss: 0.0041 - val_loss: 0.0263\n",
      "Epoch 98/100\n",
      "16/16 [==============================] - 0s 15ms/step - loss: 0.0057 - val_loss: 0.0360\n",
      "Epoch 99/100\n",
      "16/16 [==============================] - 0s 15ms/step - loss: 0.0038 - val_loss: 0.0427\n",
      "Epoch 100/100\n",
      "16/16 [==============================] - 0s 16ms/step - loss: 0.0045 - val_loss: 0.0362\n"
     ]
    }
   ],
   "source": [
    "history = modelo.fit(x=data_x, y=data_y,  validation_split=0.2,  batch_size=512, epochs=100)"
   ]
  },
  {
   "cell_type": "code",
   "execution_count": 86,
   "id": "d1f33908",
   "metadata": {},
   "outputs": [
    {
     "data": {
      "text/plain": [
       "dict_keys(['loss', 'val_loss'])"
      ]
     },
     "execution_count": 86,
     "metadata": {},
     "output_type": "execute_result"
    }
   ],
   "source": [
    "history.history.keys()"
   ]
  },
  {
   "cell_type": "code",
   "execution_count": 90,
   "id": "d4f4bbd8",
   "metadata": {},
   "outputs": [
    {
     "data": {
      "text/plain": [
       "[<matplotlib.lines.Line2D at 0x7fab70e6a580>]"
      ]
     },
     "execution_count": 90,
     "metadata": {},
     "output_type": "execute_result"
    },
    {
     "data": {
      "image/png": "[encoded data removed]",
      "text/plain": [
       "<Figure size 432x288 with 1 Axes>"
      ]
     },
     "metadata": {
      "needs_background": "light"
     },
     "output_type": "display_data"
    }
   ],
   "source": [
    "plt.plot(history.history['loss'])\n",
    "plt.plot(history.history['val_loss'])"
   ]
  },
  {
   "cell_type": "code",
   "execution_count": 95,
   "id": "95b8336f",
   "metadata": {},
   "outputs": [
    {
     "data": {
      "text/plain": [
       "array([[2.1727934]], dtype=float32)"
      ]
     },
     "execution_count": 95,
     "metadata": {},
     "output_type": "execute_result"
    }
   ],
   "source": [
    "modelo.predict(data_x[65,:,0].reshape(1,-1,1))"
   ]
  },
  {
   "cell_type": "code",
   "execution_count": 96,
   "id": "b231fe2c",
   "metadata": {},
   "outputs": [
    {
     "data": {
      "text/plain": [
       "1.9999999999999996"
      ]
     },
     "execution_count": 96,
     "metadata": {},
     "output_type": "execute_result"
    }
   ],
   "source": [
    "data_y[65]"
   ]
  },
  {
   "cell_type": "code",
   "execution_count": null,
   "id": "5f4505f9",
   "metadata": {},
   "outputs": [],
   "source": []
  },
  {
   "cell_type": "code",
   "execution_count": 102,
   "id": "d32f5a52",
   "metadata": {},
   "outputs": [
    {
     "name": "stdout",
     "output_type": "stream",
     "text": [
      "Epoch 1/100\n",
      "3/3 [==============================] - 1s 40ms/step - loss: 0.0225\n",
      "Epoch 2/100\n",
      "3/3 [==============================] - 0s 40ms/step - loss: 0.0221\n",
      "Epoch 3/100\n",
      "3/3 [==============================] - 0s 41ms/step - loss: 0.0215\n",
      "Epoch 4/100\n",
      "3/3 [==============================] - 0s 42ms/step - loss: 0.0215\n",
      "Epoch 5/100\n",
      "3/3 [==============================] - 0s 42ms/step - loss: 0.0221\n",
      "Epoch 6/100\n",
      "3/3 [==============================] - 0s 41ms/step - loss: 0.0223\n",
      "Epoch 7/100\n",
      "3/3 [==============================] - 0s 40ms/step - loss: 0.0221\n",
      "Epoch 8/100\n",
      "3/3 [==============================] - 0s 42ms/step - loss: 0.0224\n",
      "Epoch 9/100\n",
      "3/3 [==============================] - 0s 42ms/step - loss: 0.0222\n",
      "Epoch 10/100\n",
      "3/3 [==============================] - 0s 44ms/step - loss: 0.0223\n",
      "Epoch 11/100\n",
      "3/3 [==============================] - 0s 42ms/step - loss: 0.0219\n",
      "Epoch 12/100\n",
      "3/3 [==============================] - 0s 42ms/step - loss: 0.0224\n",
      "Epoch 13/100\n",
      "3/3 [==============================] - 0s 42ms/step - loss: 0.0213\n",
      "Epoch 14/100\n",
      "3/3 [==============================] - 0s 41ms/step - loss: 0.0212\n",
      "Epoch 15/100\n",
      "3/3 [==============================] - 0s 40ms/step - loss: 0.0210\n",
      "Epoch 16/100\n",
      "3/3 [==============================] - 0s 41ms/step - loss: 0.0207\n",
      "Epoch 17/100\n",
      "3/3 [==============================] - 0s 41ms/step - loss: 0.0218\n",
      "Epoch 18/100\n",
      "3/3 [==============================] - 0s 40ms/step - loss: 0.0209\n",
      "Epoch 19/100\n",
      "3/3 [==============================] - 0s 41ms/step - loss: 0.0211\n",
      "Epoch 20/100\n",
      "3/3 [==============================] - 0s 41ms/step - loss: 0.0212\n",
      "Epoch 21/100\n",
      "3/3 [==============================] - 0s 42ms/step - loss: 0.0220\n",
      "Epoch 22/100\n",
      "3/3 [==============================] - 0s 42ms/step - loss: 0.0218\n",
      "Epoch 23/100\n",
      "3/3 [==============================] - 0s 41ms/step - loss: 0.0212\n",
      "Epoch 24/100\n",
      "3/3 [==============================] - 0s 41ms/step - loss: 0.0223\n",
      "Epoch 25/100\n",
      "3/3 [==============================] - 0s 42ms/step - loss: 0.0216\n",
      "Epoch 26/100\n",
      "3/3 [==============================] - 0s 42ms/step - loss: 0.0214\n",
      "Epoch 27/100\n",
      "3/3 [==============================] - 0s 42ms/step - loss: 0.0229\n",
      "Epoch 28/100\n",
      "3/3 [==============================] - 0s 40ms/step - loss: 0.0212\n",
      "Epoch 29/100\n",
      "3/3 [==============================] - 0s 41ms/step - loss: 0.0206\n",
      "Epoch 30/100\n",
      "3/3 [==============================] - 0s 42ms/step - loss: 0.0203\n",
      "Epoch 31/100\n",
      "3/3 [==============================] - 0s 42ms/step - loss: 0.0215\n",
      "Epoch 32/100\n",
      "3/3 [==============================] - 0s 52ms/step - loss: 0.0214\n",
      "Epoch 33/100\n",
      "3/3 [==============================] - 0s 40ms/step - loss: 0.0211\n",
      "Epoch 34/100\n",
      "3/3 [==============================] - 0s 40ms/step - loss: 0.0213\n",
      "Epoch 35/100\n",
      "3/3 [==============================] - 0s 41ms/step - loss: 0.0201\n",
      "Epoch 36/100\n",
      "3/3 [==============================] - 0s 40ms/step - loss: 0.0199\n",
      "Epoch 37/100\n",
      "3/3 [==============================] - 0s 41ms/step - loss: 0.0223\n",
      "Epoch 38/100\n",
      "3/3 [==============================] - 0s 40ms/step - loss: 0.0221\n",
      "Epoch 39/100\n",
      "3/3 [==============================] - 0s 41ms/step - loss: 0.0201\n",
      "Epoch 40/100\n",
      "3/3 [==============================] - 0s 44ms/step - loss: 0.0205\n",
      "Epoch 41/100\n",
      "3/3 [==============================] - 0s 44ms/step - loss: 0.0196\n",
      "Epoch 42/100\n",
      "3/3 [==============================] - 0s 43ms/step - loss: 0.0198\n",
      "Epoch 43/100\n",
      "3/3 [==============================] - 0s 42ms/step - loss: 0.0200\n",
      "Epoch 44/100\n",
      "3/3 [==============================] - 0s 42ms/step - loss: 0.0204\n",
      "Epoch 45/100\n",
      "3/3 [==============================] - 0s 41ms/step - loss: 0.0215\n",
      "Epoch 46/100\n",
      "3/3 [==============================] - 0s 41ms/step - loss: 0.0215\n",
      "Epoch 47/100\n",
      "3/3 [==============================] - 0s 41ms/step - loss: 0.0204\n",
      "Epoch 48/100\n",
      "3/3 [==============================] - 0s 40ms/step - loss: 0.0205\n",
      "Epoch 49/100\n",
      "3/3 [==============================] - 0s 42ms/step - loss: 0.0197\n",
      "Epoch 50/100\n",
      "3/3 [==============================] - 0s 40ms/step - loss: 0.0197\n",
      "Epoch 51/100\n",
      "3/3 [==============================] - 0s 42ms/step - loss: 0.0200\n",
      "Epoch 52/100\n",
      "3/3 [==============================] - 0s 42ms/step - loss: 0.0201\n",
      "Epoch 53/100\n",
      "3/3 [==============================] - 0s 42ms/step - loss: 0.0199\n",
      "Epoch 54/100\n",
      "3/3 [==============================] - 0s 42ms/step - loss: 0.0201\n",
      "Epoch 55/100\n",
      "3/3 [==============================] - 0s 41ms/step - loss: 0.0198\n",
      "Epoch 56/100\n",
      "3/3 [==============================] - 0s 40ms/step - loss: 0.0204\n",
      "Epoch 57/100\n",
      "3/3 [==============================] - 0s 40ms/step - loss: 0.0210\n",
      "Epoch 58/100\n",
      "3/3 [==============================] - 0s 40ms/step - loss: 0.0219\n",
      "Epoch 59/100\n",
      "3/3 [==============================] - 0s 40ms/step - loss: 0.0212\n",
      "Epoch 60/100\n",
      "3/3 [==============================] - 0s 40ms/step - loss: 0.0191\n",
      "Epoch 61/100\n",
      "3/3 [==============================] - 0s 41ms/step - loss: 0.0191\n",
      "Epoch 62/100\n",
      "3/3 [==============================] - 0s 42ms/step - loss: 0.0197\n",
      "Epoch 63/100\n",
      "3/3 [==============================] - 0s 42ms/step - loss: 0.0203\n",
      "Epoch 64/100\n",
      "3/3 [==============================] - 0s 42ms/step - loss: 0.0201\n",
      "Epoch 65/100\n",
      "3/3 [==============================] - 0s 41ms/step - loss: 0.0200\n",
      "Epoch 66/100\n",
      "3/3 [==============================] - 0s 40ms/step - loss: 0.0207\n",
      "Epoch 67/100\n",
      "3/3 [==============================] - 0s 41ms/step - loss: 0.0192\n",
      "Epoch 68/100\n",
      "3/3 [==============================] - 0s 43ms/step - loss: 0.0191\n",
      "Epoch 69/100\n",
      "3/3 [==============================] - 0s 41ms/step - loss: 0.0192\n",
      "Epoch 70/100\n",
      "3/3 [==============================] - 0s 41ms/step - loss: 0.0199\n",
      "Epoch 71/100\n",
      "3/3 [==============================] - 0s 41ms/step - loss: 0.0191\n",
      "Epoch 72/100\n",
      "3/3 [==============================] - 0s 40ms/step - loss: 0.0192\n",
      "Epoch 73/100\n",
      "3/3 [==============================] - 0s 42ms/step - loss: 0.0196\n",
      "Epoch 74/100\n",
      "3/3 [==============================] - 0s 41ms/step - loss: 0.0203\n",
      "Epoch 75/100\n",
      "3/3 [==============================] - 0s 41ms/step - loss: 0.0189\n",
      "Epoch 76/100\n",
      "3/3 [==============================] - 0s 42ms/step - loss: 0.0195\n",
      "Epoch 77/100\n",
      "3/3 [==============================] - 0s 40ms/step - loss: 0.0198\n",
      "Epoch 78/100\n",
      "3/3 [==============================] - 0s 41ms/step - loss: 0.0216\n",
      "Epoch 79/100\n",
      "3/3 [==============================] - 0s 41ms/step - loss: 0.0225\n",
      "Epoch 80/100\n",
      "3/3 [==============================] - 0s 41ms/step - loss: 0.0198\n",
      "Epoch 81/100\n",
      "3/3 [==============================] - 0s 43ms/step - loss: 0.0188\n",
      "Epoch 82/100\n",
      "3/3 [==============================] - 0s 40ms/step - loss: 0.0190\n",
      "Epoch 83/100\n",
      "3/3 [==============================] - 0s 41ms/step - loss: 0.0213\n",
      "Epoch 84/100\n",
      "3/3 [==============================] - 0s 43ms/step - loss: 0.0192\n",
      "Epoch 85/100\n",
      "3/3 [==============================] - 0s 42ms/step - loss: 0.0191\n",
      "Epoch 86/100\n",
      "3/3 [==============================] - 0s 41ms/step - loss: 0.0190\n",
      "Epoch 87/100\n",
      "3/3 [==============================] - 0s 41ms/step - loss: 0.0182\n",
      "Epoch 88/100\n",
      "3/3 [==============================] - 0s 41ms/step - loss: 0.0190\n",
      "Epoch 89/100\n",
      "3/3 [==============================] - 0s 41ms/step - loss: 0.0187\n",
      "Epoch 90/100\n",
      "3/3 [==============================] - 0s 40ms/step - loss: 0.0189\n",
      "Epoch 91/100\n",
      "3/3 [==============================] - 0s 42ms/step - loss: 0.0179\n",
      "Epoch 92/100\n",
      "3/3 [==============================] - 0s 43ms/step - loss: 0.0177\n",
      "Epoch 93/100\n",
      "3/3 [==============================] - 0s 41ms/step - loss: 0.0178\n",
      "Epoch 94/100\n",
      "3/3 [==============================] - 0s 42ms/step - loss: 0.0187\n",
      "Epoch 95/100\n",
      "3/3 [==============================] - 0s 42ms/step - loss: 0.0198\n",
      "Epoch 96/100\n",
      "3/3 [==============================] - 0s 42ms/step - loss: 0.0181\n",
      "Epoch 97/100\n",
      "3/3 [==============================] - 0s 41ms/step - loss: 0.0182\n",
      "Epoch 98/100\n",
      "3/3 [==============================] - 0s 40ms/step - loss: 0.0201\n",
      "Epoch 99/100\n",
      "3/3 [==============================] - 0s 41ms/step - loss: 0.0191\n",
      "Epoch 100/100\n",
      "3/3 [==============================] - 0s 40ms/step - loss: 0.0193\n"
     ]
    },
    {
     "data": {
      "text/plain": [
       "<tensorflow.python.keras.callbacks.History at 0x7fab7058e310>"
      ]
     },
     "execution_count": 102,
     "metadata": {},
     "output_type": "execute_result"
    }
   ],
   "source": [
    "modelo_mio.fit(x=data_x, y=data_y, batch_size=4096, epochs=100)"
   ]
  },
  {
   "cell_type": "code",
   "execution_count": 103,
   "id": "c7d7e46f",
   "metadata": {},
   "outputs": [
    {
     "data": {
      "text/plain": [
       "array([[0.5720079]], dtype=float32)"
      ]
     },
     "execution_count": 103,
     "metadata": {},
     "output_type": "execute_result"
    }
   ],
   "source": [
    "modelo_mio.predict(data_x[119,:,0].reshape(1,-1,1))"
   ]
  },
  {
   "cell_type": "code",
   "execution_count": 104,
   "id": "fd828ac3",
   "metadata": {},
   "outputs": [
    {
     "data": {
      "text/plain": [
       "0.5"
      ]
     },
     "execution_count": 104,
     "metadata": {},
     "output_type": "execute_result"
    }
   ],
   "source": [
    "data_y[119]"
   ]
  },
  {
   "cell_type": "code",
   "execution_count": null,
   "id": "5a5edf18",
   "metadata": {},
   "outputs": [],
   "source": []
  },
  {
   "cell_type": "code",
   "execution_count": null,
   "id": "ebef31bb",
   "metadata": {},
   "outputs": [],
   "source": []
  }
 ],
 "metadata": {
  "kernelspec": {
   "display_name": "Python 3 (ipykernel)",
   "language": "python",
   "name": "python3"
  },
  "language_info": {
   "codemirror_mode": {
    "name": "ipython",
    "version": 3
   },
   "file_extension": ".py",
   "mimetype": "text/x-python",
   "name": "python",
   "nbconvert_exporter": "python",
   "pygments_lexer": "ipython3",
   "version": "3.8.10"
  }
 },
 "nbformat": 4,
 "nbformat_minor": 5
}
